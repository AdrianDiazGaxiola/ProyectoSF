{
  "nbformat": 4,
  "nbformat_minor": 0,
  "metadata": {
    "colab": {
      "name": "Proyecto SF",
      "provenance": [],
      "collapsed_sections": [],
      "authorship_tag": "ABX9TyMA+70f64X9qdJjSyG0hs4h",
      "include_colab_link": true
    },
    "kernelspec": {
      "name": "python3",
      "display_name": "Python 3"
    },
    "language_info": {
      "name": "python"
    }
  },
  "cells": [
    {
      "cell_type": "markdown",
      "metadata": {
        "id": "view-in-github",
        "colab_type": "text"
      },
      "source": [
        "<a href=\"https://colab.research.google.com/github/AdrianDiazGaxiola/ProyectoSF/blob/main/Proyecto_SF.ipynb\" target=\"_parent\"><img src=\"https://colab.research.google.com/assets/colab-badge.svg\" alt=\"Open In Colab\"/></a>"
      ]
    },
    {
      "cell_type": "code",
      "metadata": {
        "id": "kWxjKVq1gWss"
      },
      "source": [
        "import numpy as np\n",
        "import matplotlib.pyplot as plt\n",
        "from scipy.special import comb\n",
        "import random"
      ],
      "execution_count": null,
      "outputs": []
    },
    {
      "cell_type": "markdown",
      "metadata": {
        "id": "jec4xZHegYrD"
      },
      "source": [
        "# 1) El problema de Monty Hall"
      ]
    },
    {
      "cell_type": "markdown",
      "metadata": {
        "id": "EHZU-H6jgdCS"
      },
      "source": [
        "Imagine que se encuentra en un programa de televisión y le dan la posibilidad de ganar un automóvil si completa exitosamente un reto.\n",
        "En frente de usted hay 3 puertas y solamente detrás de una de ellas se encuentra un automóvil. Para ganar el automóvil debe adivinar correctamente detrás de qué puerta se encuentra el automóvil.\n",
        "Usted le dice al presentador que el automóvil se encuentra en la puerta x1 (cualquier valor de 1 a 3).\n",
        "En ese momento, el presentador dice que la puerta x2 (uno de los dos valores restantes después de que escogió la puerta x1) no tiene nada detrás de ella y le da la opción de cambiar su elección a la puerta x3?\n"
      ]
    },
    {
      "cell_type": "markdown",
      "metadata": {
        "id": "zXANTu8tg-5r"
      },
      "source": [
        "**(a) Simule el proceso anterior y calcule las probabilidades de ganar tanto si cambia su decisión como si no lo hace. [1 acierto]**"
      ]
    },
    {
      "cell_type": "markdown",
      "metadata": {
        "id": "y7EIJD4GhSYV"
      },
      "source": [
        "Si cambia su decisión"
      ]
    },
    {
      "cell_type": "code",
      "metadata": {
        "colab": {
          "base_uri": "https://localhost:8080/"
        },
        "id": "R6-s35eOgYIx",
        "outputId": "0e1e99cb-1f48-4526-bf13-c77f8a1eefbb"
      },
      "source": [
        "count=0                                              #LLevar la cuenta de los outcomes deseados\n",
        "\n",
        "for i in range(100000):                                  #Repetir el experimento 100,000 veces\n",
        "  puertas = [0, 1, 2]\n",
        "\n",
        "  #Se selecciona al azar la puerta que contiene el auto y la elección inicial del concursante\n",
        "  auto = random.choice(puertas)\n",
        "  elección = random.choice(puertas)\n",
        "\n",
        "  #Se elimina una puerta que no contenga el premio ni sea igual a la elección inicial (la puerta de ayuda)\n",
        "  for i in puertas:\n",
        "    if ((i != auto) & (i != elección)):\n",
        "     break\n",
        "  puertas.remove(i)\n",
        "\n",
        "  #Se elimina de la lista de puertas la elección inicial (ya que el concursante cambia de decisión)\n",
        "  puertas.remove(elección)\n",
        "\n",
        "  #Se selecciona una de las puertas restantes (en este caso, solo queda una)\n",
        "  elección = random.choice(puertas)\n",
        "\n",
        "  if (auto == elección):\n",
        "   count += 1\n",
        "\n",
        "print('Count: ',count)                                   #Imprimir resultados\n",
        "print('Probabilidad de que gane al cambiar de decisión: ',count/100000)"
      ],
      "execution_count": null,
      "outputs": [
        {
          "output_type": "stream",
          "name": "stdout",
          "text": [
            "Count:  66645\n",
            "Probabilidad de que gane al cambiar de decisión:  0.66645\n"
          ]
        }
      ]
    },
    {
      "cell_type": "markdown",
      "metadata": {
        "id": "2bXs9jX3voKb"
      },
      "source": [
        "Si se queda con la elección inicial"
      ]
    },
    {
      "cell_type": "code",
      "metadata": {
        "colab": {
          "base_uri": "https://localhost:8080/"
        },
        "id": "O36ugxXVvmKC",
        "outputId": "7c333879-574e-47de-c64b-360b7de45a27"
      },
      "source": [
        "count=0                                              #LLevar la cuenta de los outcomes deseados\n",
        "\n",
        "for i in range(100000):                                  #Repetir el experimento 100,000 veces\n",
        "  puertas = [0, 1, 2]\n",
        "\n",
        "  #Se selecciona al azar la puerta que contiene el auto y la elección inicial del concursante\n",
        "  auto = random.choice(puertas)\n",
        "  elección = random.choice(puertas)\n",
        "\n",
        "  #Como se queda con la elección inicial, no es necesario eliminar de la lista la puerta de ayuda\n",
        "\n",
        "  if (auto == elección):\n",
        "     count += 1\n",
        "\n",
        "print('Count: ',count)                                   #Imprimir resultados\n",
        "print('Probabilidad de que gane al quedarse con la elección inicial: ',count/100000)"
      ],
      "execution_count": null,
      "outputs": [
        {
          "output_type": "stream",
          "name": "stdout",
          "text": [
            "Count:  33443\n",
            "Probabilidad de que gane al quedarse con la elección inicial:  0.33443\n"
          ]
        }
      ]
    },
    {
      "cell_type": "markdown",
      "metadata": {
        "id": "UQ0QTK93v22o"
      },
      "source": [
        "**(b) Modifique su programa para que en vez de 3 cajas, sean n (un número entero arbitrario mayor o\n",
        "igual que 3).**"
      ]
    },
    {
      "cell_type": "markdown",
      "metadata": {
        "id": "XpF4I03Qv7My"
      },
      "source": [
        "Seleccionar número de cajas (o puertas)"
      ]
    },
    {
      "cell_type": "code",
      "metadata": {
        "id": "5aDf-qnhv-_w"
      },
      "source": [
        "num = 4"
      ],
      "execution_count": null,
      "outputs": []
    },
    {
      "cell_type": "markdown",
      "metadata": {
        "id": "8OfUqJduv7LK"
      },
      "source": [
        "Si cambia de decisión"
      ]
    },
    {
      "cell_type": "code",
      "metadata": {
        "colab": {
          "base_uri": "https://localhost:8080/"
        },
        "id": "WSNNZNhivtu9",
        "outputId": "461211b8-6f09-46e0-bb06-739ca280b4e7"
      },
      "source": [
        "count=0                                              #LLevar la cuenta de los outcomes deseados\n",
        "\n",
        "for i in range(100000):                                  #Repetir el experimento 100,000 veces\n",
        "  #Número de puertas de acuerdo a aquel seleccionado\n",
        "  puertas = list(range(num))\n",
        "\n",
        "\n",
        "  #Se selecciona al azar la puerta que contiene el auto y la elección inicial del concursante\n",
        "  auto = random.choice(puertas)\n",
        "  elección = random.choice(puertas)\n",
        "\n",
        "  #Se elimina una puerta que no contenga el premio ni sea igual a la elección inicial (la puerta de ayuda)\n",
        "  for i in puertas:\n",
        "    if ((i != auto) & (i != elección)):\n",
        "      break\n",
        "  puertas.remove(i)\n",
        "\n",
        "  #Se elimina de la lista de puertas la elección inicial (ya que el concursante cambia de decisión)\n",
        "  puertas.remove(elección)\n",
        "\n",
        "  elección = random.choice(puertas)\n",
        "\n",
        "  if (auto == elección):\n",
        "    count += 1\n",
        "\n",
        "print('Count: ',count)                                   #Imprimir resultados\n",
        "print('Probabilidad de que gane al cambiar de decisión: ',count/100000)"
      ],
      "execution_count": null,
      "outputs": [
        {
          "output_type": "stream",
          "name": "stdout",
          "text": [
            "Count:  37464\n",
            "Probabilidad de que gane al cambiar de decisión:  0.37464\n"
          ]
        }
      ]
    },
    {
      "cell_type": "markdown",
      "metadata": {
        "id": "vkryAR0PwhAK"
      },
      "source": [
        "Si se queda con la elección inicial"
      ]
    },
    {
      "cell_type": "code",
      "metadata": {
        "colab": {
          "base_uri": "https://localhost:8080/"
        },
        "id": "vsliNPCkwg3n",
        "outputId": "8cd91903-e3ad-436f-809e-815ba97abad5"
      },
      "source": [
        "count=0                                              #LLevar la cuenta de los outcomes deseados\n",
        "\n",
        "for i in range(100000):                                  #Repetir el experimento 100,000 veces\n",
        "  puertas = list(range(num))\n",
        "\n",
        "  #Se selecciona al azar la puerta que contiene el auto y la elección inicial del concursante\n",
        "  auto = random.choice(puertas)\n",
        "  elección = random.choice(puertas)\n",
        "\n",
        "  if (auto == elección):\n",
        "    count += 1\n",
        "\n",
        "print('Count: ',count)                                   #Imprimir resultados\n",
        "print('Probabilidad de que gane al quedarse con la elección inicial: ',count/100000)"
      ],
      "execution_count": null,
      "outputs": [
        {
          "output_type": "stream",
          "name": "stdout",
          "text": [
            "Count:  24821\n",
            "Probabilidad de que gane al quedarse con la elección inicial:  0.24821\n"
          ]
        }
      ]
    },
    {
      "cell_type": "markdown",
      "metadata": {
        "id": "vsdckNszxeNQ"
      },
      "source": [
        "**Grafique las probabilidades de ganar tanto si se cambia la elección como si no en función del número de puertas en un mismo eje para que la comparación sea fácil. [4 aciertos]**\n"
      ]
    },
    {
      "cell_type": "markdown",
      "metadata": {
        "id": "XvvmwBUKz1ZK"
      },
      "source": [
        "Se obtienen las probabilidades al cambiarse para cuando hay de 3 a 20 puertas"
      ]
    },
    {
      "cell_type": "code",
      "metadata": {
        "colab": {
          "base_uri": "https://localhost:8080/"
        },
        "id": "4-6cYYjzxsNk",
        "outputId": "d968b8d9-be9f-4877-8e21-acedce8fb298"
      },
      "source": [
        "n = list(range(3, 21))\n",
        "\n",
        "prob_cambiarse = []\n",
        "\n",
        "for k in n:\n",
        "  count=0\n",
        "  for i in range(100000):                                  #Repetir el experimento 100,000 veces\n",
        "    #Número de puertas de acuerdo a aquel seleccionado\n",
        "    puertas = list(range(k))\n",
        "\n",
        "\n",
        "    #Se selecciona al azar la puerta que contiene el auto y la elección inicial del concursante\n",
        "    auto = random.choice(puertas)\n",
        "    elección = random.choice(puertas)\n",
        "\n",
        "    #Se elimina una puerta que no contenga el premio ni sea igual a la elección inicial (la puerta de ayuda)\n",
        "    for i in puertas:\n",
        "      if ((i != auto) & (i != elección)):\n",
        "          break\n",
        "    puertas.remove(i)\n",
        "\n",
        "    #Se elimina de la lista de puertas la elección inicial (ya que el concursante cambia de decisión)\n",
        "    puertas.remove(elección)\n",
        "\n",
        "    elección = random.choice(puertas)\n",
        "\n",
        "    if (auto == elección):\n",
        "       count += 1\n",
        "\n",
        "  prob_cambiarse.append(count/100000)\n",
        "\n",
        "print(prob_cambiarse)"
      ],
      "execution_count": null,
      "outputs": [
        {
          "output_type": "stream",
          "name": "stdout",
          "text": [
            "[0.66822, 0.37595, 0.26728, 0.20728, 0.16906, 0.14538, 0.12756, 0.11177, 0.10216, 0.09162, 0.08358, 0.07799, 0.0722, 0.0655, 0.06231, 0.06034, 0.05388, 0.05189]\n"
          ]
        }
      ]
    },
    {
      "cell_type": "code",
      "metadata": {
        "colab": {
          "base_uri": "https://localhost:8080/"
        },
        "id": "sEoPxzljz8Wz",
        "outputId": "17b93b83-0887-43bd-bfb6-cf16c9ba7017"
      },
      "source": [
        "prob_quedarse = []\n",
        "\n",
        "for k in n:\n",
        "  count=0\n",
        "  for i in range(100000):                                  #Repetir el experimento 100,000 veces\n",
        "    #Número de puertas de acuerdo a aquel seleccionado\n",
        "    puertas = list(range(k))\n",
        "\n",
        "    #Se selecciona al azar la puerta que contiene el auto y la elección inicial del concursante\n",
        "    auto = random.choice(puertas)\n",
        "    elección = random.choice(puertas)\n",
        "\n",
        "    if (auto == elección):\n",
        "      count += 1\n",
        "\n",
        "  prob_quedarse.append(count/100000)\n",
        "\n",
        "print(prob_quedarse)"
      ],
      "execution_count": null,
      "outputs": [
        {
          "output_type": "stream",
          "name": "stdout",
          "text": [
            "[0.33273, 0.24861, 0.19997, 0.16738, 0.14289, 0.12579, 0.11047, 0.09996, 0.09148, 0.08385, 0.07651, 0.07108, 0.0668, 0.06221, 0.05809, 0.05441, 0.05402, 0.04833]\n"
          ]
        }
      ]
    },
    {
      "cell_type": "markdown",
      "metadata": {
        "id": "luFy7KrH08Jo"
      },
      "source": [
        "Se crea la gráfica"
      ]
    },
    {
      "cell_type": "code",
      "metadata": {
        "colab": {
          "base_uri": "https://localhost:8080/",
          "height": 283
        },
        "id": "ZmaCudUQ073Y",
        "outputId": "b689abe6-08f2-4c8f-a6fe-2b2a8edffe07"
      },
      "source": [
        "plt.bar(x = n, height = prob_cambiarse, width = 0.6, label = \"Prob. de ganar al cambiarse\")\n",
        "plt.bar(x = n, height = prob_quedarse, width = 0.6, label = \"Prob. de ganar al quedarse\")\n",
        "\n",
        "plt.xlabel('Número de puertas')\n",
        "plt.ylabel('Prob. de ganar')\n",
        "plt.xticks(n)\n",
        "\n",
        "plt.legend(loc='best')\n",
        "plt.show()"
      ],
      "execution_count": null,
      "outputs": [
        {
          "output_type": "display_data",
          "data": {
            "image/png": "[encoded data removed]",
            "text/plain": [
              "<Figure size 432x288 with 1 Axes>"
            ]
          },
          "metadata": {
            "needs_background": "light"
          }
        }
      ]
    },
    {
      "cell_type": "markdown",
      "metadata": {
        "id": "CMmicu7EAvpx"
      },
      "source": [
        "# 2) Integración de Monte Carlo"
      ]
    },
    {
      "cell_type": "markdown",
      "metadata": {
        "id": "Y4VOx9SxAyz5"
      },
      "source": [
        "En las siguientes preguntas escoja un número de muestras adecuado para cada problema.\n"
      ]
    },
    {
      "cell_type": "markdown",
      "metadata": {
        "id": "ee39RppFA4IF"
      },
      "source": [
        "**(a) Calcule la siguiente integral numéricamente:**"
      ]
    },
    {
      "cell_type": "markdown",
      "metadata": {
        "id": "2h3LbIxBB2ld"
      },
      "source": [
        "![Integral 1.JPG](data:image/jpeg;base64,/9j/4AAQSkZJRgABAQEAYABgAAD/4RDuRXhpZgAATU0AKgAAAAgABAE7AAIAAAAMAAAISodpAAQAAAABAAAIVpydAAEAAAAYAAAQzuocAAcAAAgMAAAAPgAAAAAc6gAAAAgAAAAAAAAAAAAAAAAAAAAAAAAAAAAAAAAAAAAAAAAAAAAAAAAAAAAAAAAAAAAAAAAAAAAAAAAAAAAAAAAAAAAAAAAAAAAAAAAAAAAAAAAAAAAAAAAAAAAAAAAAAAAAAAAAAAAAAAAAAAAAAAAAAAAAAAAAAAAAAAAAAAAAAAAAAAAAAAAAAAAAAAAAAAAAAAAAAAAAAAAAAAAAAAAAAAAAAAAAAAAAAAAAAAAAAAAAAAAAAAAAAAAAAAAAAAAAAAAAAAAAAAAAAAAAAAAAAAAAAAAAAAAAAAAAAAAAAAAAAAAAAAAAAAAAAAAAAAAAAAAAAAAAAAAAAAAAAAAAAAAAAAAAAAAAAAAAAAAAAAAAAAAAAAAAAAAAAAAAAAAAAAAAAAAAAAAAAAAAAAAAAAAAAAAAAAAAAAAAAAAAAAAAAAAAAAAAAAAAAAAAAAAAAAAAAAAAAAAAAAAAAAAAAAAAAAAAAAAAAAAAAAAAAAAAAAAAAAAAAAAAAAAAAAAAAAAAAAAAAAAAAAAAAAAAAAAAAAAAAAAAAAAAAAAAAAAAAAAAAAAAAAAAAAAAAAAAAAAAAAAAAAAAAAAAAAAAAAAAAAAAAAAAAAAAAAAAAAAAAAAAAAAAAAAAAAAAAAAAAAAAAAAAAAAAAAAAAAAAAAAAAAAAAAAAAAAAAAAAAAAAAAAAAAAAAAAAAAAAAAAAAAAAAAAAAAAAAAAAAAAAAAAAAAAAAAAAAAAAAAAAAAAAAAAAAAAAAAAAAAAAAAAAAAAAAAAAAAAAAAAAAAAAAAAAAAAAAAAAAAAAAAAAAAAAAAAAAAAAAAAAAAAAAAAAAAAAAAAAAAAAAAAAAAAAAAAAAAAAAAAAAAAAAAAAAAAAAAAAAAAAAAAAAAAAAAAAAAAAAAAAAAAAAAAAAAAAAAAAAAAAAAAAAAAAAAAAAAAAAAAAAAAAAAAAAAAAAAAAAAAAAAAAAAAAAAAAAAAAAAAAAAAAAAAAAAAAAAAAAAAAAAAAAAAAAAAAAAAAAAAAAAAAAAAAAAAAAAAAAAAAAAAAAAAAAAAAAAAAAAAAAAAAAAAAAAAAAAAAAAAAAAAAAAAAAAAAAAAAAAAAAAAAAAAAAAAAAAAAAAAAAAAAAAAAAAAAAAAAAAAAAAAAAAAAAAAAAAAAAAAAAAAAAAAAAAAAAAAAAAAAAAAAAAAAAAAAAAAAAAAAAAAAAAAAAAAAAAAAAAAAAAAAAAAAAAAAAAAAAAAAAAAAAAAAAAAAAAAAAAAAAAAAAAAAAAAAAAAAAAAAAAAAAAAAAAAAAAAAAAAAAAAAAAAAAAAAAAAAAAAAAAAAAAAAAAAAAAAAAAAAAAAAAAAAAAAAAAAAAAAAAAAAAAAAAAAAAAAAAAAAAAAAAAAAAAAAAAAAAAAAAAAAAAAAAAAAAAAAAAAAAAAAAAAAAAAAAAAAAAAAAAAAAAAAAAAAAAAAAAAAAAAAAAAAAAAAAAAAAAAAAAAAAAAAAAAAAAAAAAAAAAAAAAAAAAAAAAAAAAAAAAAAAAAAAAAAAAAAAAAAAAAAAAAAAAAAAAAAAAAAAAAAAAAAAAAAAAAAAAAAAAAAAAAAAAAAAAAAAAAAAAAAAAAAAAAAAAAAAAAAAAAAAAAAAAAAAAAAAAAAAAAAAAAAAAAAAAAAAAAAAAAAAAAAAAAAAAAAAAAAAAAAAAAAAAAAAAAAAAAAAAAAAAAAAAAAAAAAAAAAAAAAAAAAAAAAAAAAAAAAAAAAAAAAAAAAAAAAAAAAAAAAAAAAAAAAAAAAAAAAAAAAAAAAAAAAAAAAAAAAAAAAAAAAAAAAAAAAAAAAAAAAAAAAAAAAAAAAAAAAAAAAAAAAAAAAAAAAAAAAAAAAAAAAAAAAAAAAAAAAAAAAAAAAAAAAAAAAAAAAAAAAAAAAAAAAAAAAAAAAAAAAAAAAAAAAAAAAAAAAAAAAAAAAAAAAAAAAAAAAAAAAAAAAAAAAAAAAAAAAAAAAAAAAAAAAAAAAAAAAAAAAAAAAAAAAAAAAAAAAAAAAAAAAAAAAAAAAAAAAAAAAAAAAAAAAAAAAAAAAAAAAAAAAAAAAAAAAAAAAAAAAAAAAAAAAAAAAAAAAAAAAAAAAAAAAAAAAAAAAAAAAAAAAAAAAAAAAAAAAAAAAAAAAAAAAAAAAAAAAAAAAAAAAAAAAAAAAAAAAAAAAAAAAAAAAAAAAAAAAAAAAAAAAAAAAAAAAAAAAAAAAAAAAAAAAAAAAAAAAAAAAAAAAAAAAAAAAAAAAAAAAAAAAAAAAAAAAAAAAAAAAAAAAAAAAAAAAAAAAAAAAAAAAAAAAAAAAAAAAAAAAAAAAAAAAAAAAAAAAAAAAAAAAAAAAAAAAAAAAAAAAAAAAAAAAAAAAAAAAAAAAAAAAAAAAAAAAAAAAAAAAAAAAAAAAAAAAAAAAAAAAAAAAAAAAAAAAAAAAAAAAAAAAAAAAAAAAAAAAAAAAAAAAAAAAAAAAAAAAAAAAAAAAAAAAAAAAAAAAAAAAAAAAAAAAAAAAAAAAAAAAAAAAAAAAAAAAAAAAAAAAAAAAAAAAAAAAAAAAAAAAAAAAAAAAAAAAAAAAAAAAAAAAAAAAAAAAAAAAAAAAAAAAAAAAAAAAAAAAAAAAAAAAAAAAAAAAAAAAAAAAAAAAAAAAAAAAAAAAAAAAAAAAAAAAAAAAAAAAAAAAAAAAAAAAAAAAAAAAAAAAAAAAAAAAAAAAAAAAAAAAAAAAAAAAAAAAAEFkcmlhbiBEaWF6AAAFkAMAAgAAABQAABCkkAQAAgAAABQAABC4kpEAAgAAAAMyNgAAkpIAAgAAAAMyNgAA6hwABwAACAwAAAiYAAAAABzqAAAACAAAAAAAAAAAAAAAAAAAAAAAAAAAAAAAAAAAAAAAAAAAAAAAAAAAAAAAAAAAAAAAAAAAAAAAAAAAAAAAAAAAAAAAAAAAAAAAAAAAAAAAAAAAAAAAAAAAAAAAAAAAAAAAAAAAAAAAAAAAAAAAAAAAAAAAAAAAAAAAAAAAAAAAAAAAAAAAAAAAAAAAAAAAAAAAAAAAAAAAAAAAAAAAAAAAAAAAAAAAAAAAAAAAAAAAAAAAAAAAAAAAAAAAAAAAAAAAAAAAAAAAAAAAAAAAAAAAAAAAAAAAAAAAAAAAAAAAAAAAAAAAAAAAAAAAAAAAAAAAAAAAAAAAAAAAAAAAAAAAAAAAAAAAAAAAAAAAAAAAAAAAAAAAAAAAAAAAAAAAAAAAAAAAAAAAAAAAAAAAAAAAAAAAAAAAAAAAAAAAAAAAAAAAAAAAAAAAAAAAAAAAAAAAAAAAAAAAAAAAAAAAAAAAAAAAAAAAAAAAAAAAAAAAAAAAAAAAAAAAAAAAAAAAAAAAAAAAAAAAAAAAAAAAAAAAAAAAAAAAAAAAAAAAAAAAAAAAAAAAAAAAAAAAAAAAAAAAAAAAAAAAAAAAAAAAAAAAAAAAAAAAAAAAAAAAAAAAAAAAAAAAAAAAAAAAAAAAAAAAAAAAAAAAAAAAAAAAAAAAAAAAAAAAAAAAAAAAAAAAAAAAAAAAAAAAAAAAAAAAAAAAAAAAAAAAAAAAAAAAAAAAAAAAAAAAAAAAAAAAAAAAAAAAAAAAAAAAAAAAAAAAAAAAAAAAAAAAAAAAAAAAAAAAAAAAAAAAAAAAAAAAAAAAAAAAAAAAAAAAAAAAAAAAAAAAAAAAAAAAAAAAAAAAAAAAAAAAAAAAAAAAAAAAAAAAAAAAAAAAAAAAAAAAAAAAAAAAAAAAAAAAAAAAAAAAAAAAAAAAAAAAAAAAAAAAAAAAAAAAAAAAAAAAAAAAAAAAAAAAAAAAAAAAAAAAAAAAAAAAAAAAAAAAAAAAAAAAAAAAAAAAAAAAAAAAAAAAAAAAAAAAAAAAAAAAAAAAAAAAAAAAAAAAAAAAAAAAAAAAAAAAAAAAAAAAAAAAAAAAAAAAAAAAAAAAAAAAAAAAAAAAAAAAAAAAAAAAAAAAAAAAAAAAAAAAAAAAAAAAAAAAAAAAAAAAAAAAAAAAAAAAAAAAAAAAAAAAAAAAAAAAAAAAAAAAAAAAAAAAAAAAAAAAAAAAAAAAAAAAAAAAAAAAAAAAAAAAAAAAAAAAAAAAAAAAAAAAAAAAAAAAAAAAAAAAAAAAAAAAAAAAAAAAAAAAAAAAAAAAAAAAAAAAAAAAAAAAAAAAAAAAAAAAAAAAAAAAAAAAAAAAAAAAAAAAAAAAAAAAAAAAAAAAAAAAAAAAAAAAAAAAAAAAAAAAAAAAAAAAAAAAAAAAAAAAAAAAAAAAAAAAAAAAAAAAAAAAAAAAAAAAAAAAAAAAAAAAAAAAAAAAAAAAAAAAAAAAAAAAAAAAAAAAAAAAAAAAAAAAAAAAAAAAAAAAAAAAAAAAAAAAAAAAAAAAAAAAAAAAAAAAAAAAAAAAAAAAAAAAAAAAAAAAAAAAAAAAAAAAAAAAAAAAAAAAAAAAAAAAAAAAAAAAAAAAAAAAAAAAAAAAAAAAAAAAAAAAAAAAAAAAAAAAAAAAAAAAAAAAAAAAAAAAAAAAAAAAAAAAAAAAAAAAAAAAAAAAAAAAAAAAAAAAAAAAAAAAAAAAAAAAAAAAAAAAAAAAAAAAAAAAAAAAAAAAAAAAAAAAAAAAAAAAAAAAAAAAAAAAAAAAAAAAAAAAAAAAAAAAAAAAAAAAAAAAAAAAAAAAAAAAAAAAAAAAAAAAAAAAAAAAAAAAAAAAAAAAAAAAAAAAAAAAAAAAAAAAAAAAAAAAAAAAAAAAAAAAAAAAAAAAAAAAAAAAAAAAAAAAAAAAAAAAAAAAAAAAAAAAAAAAAAAAAAAAAAAAAAAAAAAAAAAAAAAAAAAAAAAAAAAAAAAAAAAAAAAAAAAAAAAAAAAAAAAAAAAAAAAAAAAAAAAAAAAAAAAAAAAAAAAAAAAAAAAAAAAAAAAAAAAAAAAAAAAAAAAAAAAAAAAAAAAAAAAAAAAAAAAAAAAAAAAAAAAAAAAAAAAAAAAAAAAAAAAAAAAAAAAAAAAAAAAAAAAAAAAAAAAAAAAAAAAAAAAAAAAAAAAAAAAAAAAAAAAAAAAAAAAAAAAAAAAAAAAAAAAAAAAAAAAAAAAAAAAAAAAAAAAAAAAAAAAAAAAAAAAAAAAAAAAAAAAAAAAAAAAAAAAAAAAAAAAAAAAAAAAAAAAAAAAAAAAAAAAAAAAAAAAAAAAAAAAAAAAAAAAAAAAAAAAAAAAAAAAAAAAAAAAAAAAAAAAAAAAAAAAAAAAAAAAAAAAAAAAAAAAAAAAAAAAAAAAAAAAAAAAAAAAAAAAAAAAAAAAAAAAAAAAAAAAAAAAAAAAAAAAAAAAAAAAAAAAAAAAAAAAAAAAAAAAAAAAAAAAAAAAAAAAAAAAAAAAAAAAAAAAAAAAAAAAAAAAAAAAAAAAAAAAAAAAAAAAAAAAAAAAAAAAAAAAAAAAAAAAAAAAAAAAAAAAAAAAAAAAAAAAAAAAAAAAAAAAAAAAAAAAAAAAAAAAAAAAAAAAAAAAAAAAAAAAAAAAAAAAAAAAAAAAAAAAAAAAAAAAAAAAAAAAAAAAAAAAAAAAAAAAAAAAAAAAAAAAAAAAAAAAAAAAAAAAAAAAAAAAAAAAAAAAAMjAyMToxMDoyNyAxNzoxMzozNwAyMDIxOjEwOjI3IDE3OjEzOjM3AAAAQQBkAHIAaQBhAG4AIABEAGkAYQB6AAAA/+ELHmh0dHA6Ly9ucy5hZG9iZS5jb20veGFwLzEuMC8APD94cGFja2V0IGJlZ2luPSfvu78nIGlkPSdXNU0wTXBDZWhpSHpyZVN6TlRjemtjOWQnPz4NCjx4OnhtcG1ldGEgeG1sbnM6eD0iYWRvYmU6bnM6bWV0YS8iPjxyZGY6UkRGIHhtbG5zOnJkZj0iaHR0cDovL3d3dy53My5vcmcvMTk5OS8wMi8yMi1yZGYtc3ludGF4LW5zIyI+PHJkZjpEZXNjcmlwdGlvbiByZGY6YWJvdXQ9InV1aWQ6ZmFmNWJkZDUtYmEzZC0xMWRhLWFkMzEtZDMzZDc1MTgyZjFiIiB4bWxuczpkYz0iaHR0cDovL3B1cmwub3JnL2RjL2VsZW1lbnRzLzEuMS8iLz48cmRmOkRlc2NyaXB0aW9uIHJkZjphYm91dD0idXVpZDpmYWY1YmRkNS1iYTNkLTExZGEtYWQzMS1kMzNkNzUxODJmMWIiIHhtbG5zOnhtcD0iaHR0cDovL25zLmFkb2JlLmNvbS94YXAvMS4wLyI+PHhtcDpDcmVhdGVEYXRlPjIwMjEtMTAtMjdUMTc6MTM6MzcuMjYxPC94bXA6Q3JlYXRlRGF0ZT48L3JkZjpEZXNjcmlwdGlvbj48cmRmOkRlc2NyaXB0aW9uIHJkZjphYm91dD0idXVpZDpmYWY1YmRkNS1iYTNkLTExZGEtYWQzMS1kMzNkNzUxODJmMWIiIHhtbG5zOmRjPSJodHRwOi8vcHVybC5vcmcvZGMvZWxlbWVudHMvMS4xLyI+PGRjOmNyZWF0b3I+PHJkZjpTZXEgeG1sbnM6cmRmPSJodHRwOi8vd3d3LnczLm9yZy8xOTk5LzAyLzIyLXJkZi1zeW50YXgtbnMjIj48cmRmOmxpPkFkcmlhbiBEaWF6PC9yZGY6bGk+PC9yZGY6U2VxPg0KCQkJPC9kYzpjcmVhdG9yPjwvcmRmOkRlc2NyaXB0aW9uPjwvcmRmOlJERj48L3g6eG1wbWV0YT4NCiAgICAgICAgICAgICAgICAgICAgICAgICAgICAgICAgICAgICAgICAgICAgICAgICAgICAgICAgICAgICAgICAgICAgICAgICAgICAgICAgICAgICAgICAgICAgICAgICAgICAKICAgICAgICAgICAgICAgICAgICAgICAgICAgICAgICAgICAgICAgICAgICAgICAgICAgICAgICAgICAgICAgICAgICAgICAgICAgICAgICAgICAgICAgICAgICAgICAgICAgIAogICAgICAgICAgICAgICAgICAgICAgICAgICAgICAgICAgICAgICAgICAgICAgICAgICAgICAgICAgICAgICAgICAgICAgICAgICAgICAgICAgICAgICAgICAgICAgICAgICAgCiAgICAgICAgICAgICAgICAgICAgICAgICAgICAgICAgICAgICAgICAgICAgICAgICAgICAgICAgICAgICAgICAgICAgICAgICAgICAgICAgICAgICAgICAgICAgICAgICAgICAKICAgICAgICAgICAgICAgICAgICAgICAgICAgICAgICAgICAgICAgICAgICAgICAgICAgICAgICAgICAgICAgICAgICAgICAgICAgICAgICAgICAgICAgICAgICAgICAgICAgIAogICAgICAgICAgICAgICAgICAgICAgICAgICAgICAgICAgICAgICAgICAgICAgICAgICAgICAgICAgICAgICAgICAgICAgICAgICAgICAgICAgICAgICAgICAgICAgICAgICAgCiAgICAgICAgICAgICAgICAgICAgICAgICAgICAgICAgICAgICAgICAgICAgICAgICAgICAgICAgICAgICAgICAgICAgICAgICAgICAgICAgICAgICAgICAgICAgICAgICAgICAKICAgICAgICAgICAgICAgICAgICAgICAgICAgICAgICAgICAgICAgICAgICAgICAgICAgICAgICAgICAgICAgICAgICAgICAgICAgICAgICAgICAgICAgICAgICAgICAgICAgIAogICAgICAgICAgICAgICAgICAgICAgICAgICAgICAgICAgICAgICAgICAgICAgICAgICAgICAgICAgICAgICAgICAgICAgICAgICAgICAgICAgICAgICAgICAgICAgICAgICAgCiAgICAgICAgICAgICAgICAgICAgICAgICAgICAgICAgICAgICAgICAgICAgICAgICAgICAgICAgICAgICAgICAgICAgICAgICAgICAgICAgICAgICAgICAgICAgICAgICAgICAKICAgICAgICAgICAgICAgICAgICAgICAgICAgICAgICAgICAgICAgICAgICAgICAgICAgICAgICAgICAgICAgICAgICAgICAgICAgICAgICAgICAgICAgICAgICAgICAgICAgIAogICAgICAgICAgICAgICAgICAgICAgICAgICAgICAgICAgICAgICAgICAgICAgICAgICAgICAgICAgICAgICAgICAgICAgICAgICAgICAgICAgICAgICAgICAgICAgICAgICAgCiAgICAgICAgICAgICAgICAgICAgICAgICAgICAgICAgICAgICAgICAgICAgICAgICAgICAgICAgICAgICAgICAgICAgICAgICAgICAgICAgICAgICAgICAgICAgICAgICAgICAKICAgICAgICAgICAgICAgICAgICAgICAgICAgICAgICAgICAgICAgICAgICAgICAgICAgICAgICAgICAgICAgICAgICAgICAgICAgICAgICAgICAgICAgICAgICAgICAgICAgIAogICAgICAgICAgICAgICAgICAgICAgICAgICAgICAgICAgICAgICAgICAgICAgICAgICAgICAgICAgICAgICAgICAgICAgICAgICAgICAgICAgICAgICAgICAgICAgICAgICAgCiAgICAgICAgICAgICAgICAgICAgICAgICAgICAgICAgICAgICAgICAgICAgICAgICAgICAgICAgICAgICAgICAgICAgICAgICAgICAgICAgICAgICAgICAgICAgICAgICAgICAKICAgICAgICAgICAgICAgICAgICAgICAgICAgICAgICAgICAgICAgICAgICAgICAgICAgICAgICAgICAgICAgICAgICAgICAgICAgICAgICAgICAgICAgICAgICAgICAgICAgIAogICAgICAgICAgICAgICAgICAgICAgICAgICAgICAgICAgICAgICAgICAgICAgICAgICAgICAgICAgICAgICAgICAgICAgICAgICAgICAgICAgICAgICAgICAgICAgICAgICAgCiAgICAgICAgICAgICAgICAgICAgICAgICAgICAgICAgICAgICAgICAgICAgICAgICAgICAgICAgICAgICAgICAgICAgICAgICAgICAgICAgICAgICAgICAgICAgICAgICAgICAKICAgICAgICAgICAgICAgICAgICAgICAgICAgICAgICAgICAgICAgICAgICAgICAgICAgICAgICAgICAgICAgICAgICAgICAgICAgICAgICAgICAgICAgICAgICAgICAgICAgIAogICAgICAgICAgICAgICAgICAgICAgICAgICAgPD94cGFja2V0IGVuZD0ndyc/Pv/bAEMABwUFBgUEBwYFBggHBwgKEQsKCQkKFQ8QDBEYFRoZGBUYFxseJyEbHSUdFxgiLiIlKCkrLCsaIC8zLyoyJyorKv/bAEMBBwgICgkKFAsLFCocGBwqKioqKioqKioqKioqKioqKioqKioqKioqKioqKioqKioqKioqKioqKioqKioqKioqKv/AABEIAFQA1wMBIgACEQEDEQH/xAAfAAABBQEBAQEBAQAAAAAAAAAAAQIDBAUGBwgJCgv/xAC1EAACAQMDAgQDBQUEBAAAAX0BAgMABBEFEiExQQYTUWEHInEUMoGRoQgjQrHBFVLR8CQzYnKCCQoWFxgZGiUmJygpKjQ1Njc4OTpDREVGR0hJSlNUVVZXWFlaY2RlZmdoaWpzdHV2d3h5eoOEhYaHiImKkpOUlZaXmJmaoqOkpaanqKmqsrO0tba3uLm6wsPExcbHyMnK0tPU1dbX2Nna4eLj5OXm5+jp6vHy8/T19vf4+fr/xAAfAQADAQEBAQEBAQEBAAAAAAAAAQIDBAUGBwgJCgv/xAC1EQACAQIEBAMEBwUEBAABAncAAQIDEQQFITEGEkFRB2FxEyIygQgUQpGhscEJIzNS8BVictEKFiQ04SXxFxgZGiYnKCkqNTY3ODk6Q0RFRkdISUpTVFVWV1hZWmNkZWZnaGlqc3R1dnd4eXqCg4SFhoeIiYqSk5SVlpeYmZqio6Slpqeoqaqys7S1tre4ubrCw8TFxsfIycrS09TV1tfY2dri4+Tl5ufo6ery8/T19vf4+fr/2gAMAwEAAhEDEQA/APpGiiigAooooAKKKrT6lY2snl3V5bwvjO2SVVOPoTQBZorl/E3iSax/sr+y2ie1vbow3F6roVgARmHJO0FiAoLcc9CSBWn4cvrrUNJ869eCVxNIiyQNlXQMQpOON2OuMjOcelC1B6GrRRRQAUUUUAFFFFABRRRQAUUUUAFFFFABRRRQAUUUUAFFFFABRRRQAUUUUAFR3E8drbS3E7BIokLux6KoGSakrg/jVrL6N8JdYMBIuLxFsoQOpaVgp/8AHS1TK9tNyopN67FTwcniPxVHo/jD+2pLS0u7ieebTnDMr2xysEajO1SAAxbGSW69qz/F/hayuLjxFdW3hRLxrGzQLLJZebLezSuHkKswLOVRVAIJwWIHTFej6BpqaN4b03TIxhbO1jgGP9lQP6VoVpJJStHZbERbau+v/D/15FTTtN0/TLEW+l2NvZWxO7yYIViXJ6naABmrYGBgcCiipGMmmit4XmnkSKJBuZ3YBVHqSelVINb0q6ZlttTs5mVC7CO4RtqjGWOD0GRz71i/ECyl1Dw9Ba2epRadfNfQNZyTxl4pJlfekbgfwkrj8qxND1LXG8e2ll490Gxt9SlsZ0s9Q02YyW9xGGQyIysNykYUjPHJoWv9eVwen9eZu+F7prDw7cXGu+LbLW1F1Ift6+XFHEpPyxkqcZGf1rYGuaSXt1GqWRa5AMAFwmZQehXn5s+1cB4Bs7ZvCfje2a3iMA17UQIig2gccY6VzaWkMH7IPmog819MScyfxFw42nPtgAegApX92/lF/ev+AO15cvdtfc/+Ce41WbUrFb77E15bi727vIMq+Zt9duc4pbKQtplvJI3JhVmYn25NebeL7PT7+88E+HdOnW7TUNVa+nuVcMZ44o2aViy9dxYKe2DjpxVNWly+f9f5kxd483lc9KtL60v4jLYXUNzGrbS8MgcA+mR3p1zd29lAZry4it4gcF5XCqPxNZmiaTo+n3+r3GkL/pF3dbr1jIz5lCjjk4ACkcDgVxGjDV/EnxW8Tag62rxaHMlhp8d3uK25KBnlVB1Ztw5yDjjNLd2Xa/8AXzY9lc9Cub2eTTBdaHHbaizYMYNzsjcZ5IcK38qzP7R8V/8AQu6d/wCDdv8A4xVzQLCPTrS4hF3HdXD3Mkty8ahVErncQFydowRwST3JOc1qUAc/ruoJb2UJ1TUotNK20tzPaw3AEkoRAWCNw21c5JAB+70GQcrwEdVudO0jUNb12a5vLzSlnnsmRduWIKvwPlwPlwAMnJOccdVeaVp+oSxS39jb3MkOfLaaJXKZxnGenQfkPSlsdLsNLjZNNsre0VsblgjCA46dPShaNv8Arr/n+APa39dC1RRRQAUUUUAFFFFABRRRQAUUUUAFeR/GWX+1PGHgDwsvzC81cXcyeqRY6/gzflXrleOS/wDFQftaQr96Lw7oxY+gd/8A60o/KiPxx9b/AHa/oD+CXpb79P1PY6KKKACiiigDP1nQtP8AEFpFbarAZoopknQCRkKuvKtlSDkHmoofDtjFcNcO11PcGJoFmmuXZ40bGQhz8ucDkYJwOeBU2rHVxbp/YS2TTbvn+2M4XbjttBOc4rK3eOP+eXh//v7P/wDE0ALY+AtA02yvrSxivoYdQkaW5Uapc5kdjlmyZMgnuRgnvUR+HPhk+Fx4dNrd/wBkDj7J/aVzsx/d/wBZnb/s9PapN3jj/nl4f/7+z/8AxNG7xx/zy8P/APf2f/4mjyDzNe20m0tdI/sxFlktPLMZS4neZip4ILOSxGDjk1i2nw88O2EVmtlay272A22ksdw4eBMEFFbPCkMcjvnJyeafu8cf88vD/wD39n/+Jo3eOP8Anl4f/wC/s/8A8TR1uHSxu2dlBp9qtvaR+XEuSBkkkk5JJPJJJJJPJNUJ/DWnzanPqEf2i2ublVW4e1uHi84KMLu2kcgcbuuOM1R3eOP+eXh//v7P/wDE0bvHH/PLw/8A9/Z//iaAN2ysrbTrVbeyhWGJSTtXuSckk9SSeSTyTU9c3u8cf88vD/8A39n/APiaN3jj/nl4f/7+z/8AxNAHSUVze7xx/wA8vD//AH9n/wDiadE3jTzk86LQfL3Dfskmzjvj5etAHRVh+Jbqwm0u706TVvsd40LNGsF55M4IBI24Ibt+NXtcnurXw9qNxp6eZdxWsjwJjO5wpKjH1xXC+BbS0u/gPFcXCpcy6hp8tzeyyjc00zBizMT1IPHtgelZz+CXkv8AP/IuHxx83/l/mbvw01C4vvhXoF/qd0888tikk1xO+5mOOWZj/Otz+3dJNot0NUsvs7P5Ym+0JsLf3d2cZ9q434dwWN18H/B9vqVykcb28JWF3UC5YAkIQfvc4OB12+may9H0zSPE+ufEPVdcz/ZUt0umErIyfLDGolIKnOWbAOOTtArep/Ekl5/mv8zKHwRb8v6/A9VznpRUdvBFa2sVvbrsiiQIi/3VAwB+VSVL30GttQooopDCiiigAryT4RRf2t8QviF4ob5ln1T7DA/+zFkHH/jv5V6drOoJpOhX2ozHCWlvJO2fRVJ/pXn/AMKzb+DPghZatrT+V9q3X9wxIBZpn+UZJAyQUHJA9SKI/E32Vvvf/AYS+FLu/wAv+C0em0Vz9r4sjbxLDoWp6fc6de3UDXFr5rI6TquNwDIx+YZBIPrxmugoAKKKKACiiigAooooAKKKo6npp1MwRSy4tFctPCB/rxjhSc/dzyR3xg8ZBAL1FeS+GfDtt4u03xFPcahc2OmjXXi0s20ip9mjidQfKJBCb3DDjnsK9aHAo6J9/wBVcOrQUUUUAFFFFABWA/grRGgubZIJobS6Z3mtIrmRIXZvvHywdozkkgDBJyQa36KVkx3OUtfht4as9M06xht7kxaXL51kZLyV2t2xj5CzHaMdhwOo55q9Y+DdE02UmxtWhiMonNusz+SZQAPMKZwW4Bye4z15rdoqru9xdLBRRRSAKKKKACiiigDzbxDdeJPGWhaj4Wm0KfTJr3UGs2uRuaJbEEFpt5ULuZcqEBJyfY12mqS6LoHheWTV/s8GkWMADiZQUVFwAMHr0GB64rVopa2sv6/r9WPrd/1/X6HmHhfxV4b8ZfEG21SLVYL7Ukt5YrGwtm3CxhOC8kh6F2wqnHA4Azy1en0UVXSyF1uFFFFIAooooAKKKKACsLW/C0Wtazp2qfb7y0udPWVYvs8gCkSDDEqQQTgcHtmt2igDmtF8D2OhWsNhaXNy2mW9w1xBZSFSqOWL8tjcwDEkAk89c4GOloooAKKKKACiiigAooooAKKKKACiiigAooooAKKKKACiiigAooooAKKKKACiiigAooooAKKKKACiiigAooooAKKKKACiiigAooooAKKKKACiiigD/9k=)"
      ]
    },
    {
      "cell_type": "code",
      "metadata": {
        "colab": {
          "base_uri": "https://localhost:8080/"
        },
        "id": "sXVRfAhbAayC",
        "outputId": "ed335e29-7efb-49f3-ca40-3a999ae08075"
      },
      "source": [
        "def G(x): return ((np.sin(x)*np.exp(-x))/x)               #Defir la función a integrar\n",
        "a=2                                              #Poner los datos del intervalo\n",
        "b=np.pi**np.e\n",
        "N=10000                                          #Poner el número de muestras\n",
        "xi=a+(b-a)*np.random.random(N)                   #Generar X~U(a,b)\n",
        "res=((b-a)/N)*np.sum(G(xi))                      #Calcular el resultado\n",
        "print('Resultado de la integral: ',res)          #Imprimir el resultado"
      ],
      "execution_count": null,
      "outputs": [
        {
          "output_type": "stream",
          "name": "stdout",
          "text": [
            "Resultado de la integral:  0.01970004387372489\n"
          ]
        }
      ]
    },
    {
      "cell_type": "markdown",
      "metadata": {
        "id": "8s-qOCt8Lcq-"
      },
      "source": [
        "**(c) Estimar π con números aleatorios**"
      ]
    },
    {
      "cell_type": "markdown",
      "metadata": {
        "id": "NPIWebxWI0Lp"
      },
      "source": [
        "Adapte el programa visto en clase para integrar la función f(x, y) = 1 sobre el círculo unitario\n",
        "centrado en el origen."
      ]
    },
    {
      "cell_type": "code",
      "metadata": {
        "colab": {
          "base_uri": "https://localhost:8080/"
        },
        "id": "9WcT0V5jDkzs",
        "outputId": "1297f203-9d46-433a-b69e-06d2e5a5875a"
      },
      "source": [
        "#Se integra un cuarto del círculo y el resultado se multiplica por cuatro\n",
        "\n",
        "def G(x): return (np.sqrt(1 - x**2))               #Defir la función a integrar\n",
        "a=0                                              #Poner los datos del intervalo\n",
        "b=1\n",
        "N=10000                                          #Poner el número de muestras\n",
        "xi=a+(b-a)*np.random.random(N)                   #Generar X~U(a,b)\n",
        "res=4*((b-a)/N)*np.sum(G(xi))                      #Calcular el resultado\n",
        "print('Resultado de la integral: ',res)          #Imprimir el resultado"
      ],
      "execution_count": null,
      "outputs": [
        {
          "output_type": "stream",
          "name": "stdout",
          "text": [
            "Resultado de la integral:  3.140747970784116\n"
          ]
        }
      ]
    },
    {
      "cell_type": "markdown",
      "metadata": {
        "id": "BzIAkGswJs_h"
      },
      "source": [
        "El resultado debería ser π, ¿por qué? [2 aciertos]\n",
        "\n",
        "**Al integrar se obtiene el área, y como estamos integrando un círculo de radio 1, siguiendo la fórmula del área del círculo, en este caso tenemos que:\n",
        "A = π * (1)^2, lo cual es igual a π.**\n"
      ]
    },
    {
      "cell_type": "markdown",
      "metadata": {
        "id": "So6Xp8tuKTms"
      },
      "source": [
        "¿Cuántas muestras se necesitan aproximadamente para tener un estimado de π correcto a tres\n",
        "cifras decimales? (Haga varias pruebas y averígüelo.)"
      ]
    },
    {
      "cell_type": "code",
      "metadata": {
        "colab": {
          "base_uri": "https://localhost:8080/"
        },
        "id": "t86HJ6zgPeVS",
        "outputId": "4ff9ae1b-4d06-4337-a5b3-b8bf1968cc1a"
      },
      "source": [
        ""
      ],
      "execution_count": null,
      "outputs": [
        {
          "output_type": "stream",
          "name": "stdout",
          "text": [
            "[1, 10, 100, 1000, 10000, 100000, 1000000, 10000000, 100000000, 1000000000, 10000000000, 100000000000, 1000000000000]\n"
          ]
        }
      ]
    },
    {
      "cell_type": "markdown",
      "metadata": {
        "id": "ChA3cN4uLPTD"
      },
      "source": [
        "Se requieren alrededor de 1000000 pruebas (aproximadamente)."
      ]
    },
    {
      "cell_type": "markdown",
      "metadata": {
        "id": "_QwFA-UtLUIU"
      },
      "source": [
        "**d) Grafique el error porcentual del estimado de π vs el número de pruebas. [3 aciertos]**"
      ]
    },
    {
      "cell_type": "code",
      "metadata": {
        "id": "AEp9M7yaJhLZ"
      },
      "source": [
        "#Se integra un cuarto del círculo y el resultado se multiplica por cuatro\n",
        "\n",
        "#Se crea una lista del número de pruebas, con intervalos de 10 a la potencia x\n",
        "n_pruebas = []\n",
        "n = 1000\n",
        "while (n <= 100000000):\n",
        "  n_pruebas.append(n)\n",
        "  n = n*10\n",
        "\n",
        "resultados = []\n",
        "\n",
        "def G(x): return (np.sqrt(1 - x**2))               #Defir la función a integrar\n",
        "a=0                                              #Poner los datos del intervalo\n",
        "b=1\n",
        "\n",
        "for k in n_pruebas:\n",
        "  N=k                                        #Poner el número de muestras\n",
        "  xi=a+(b-a)*np.random.random(N)                   #Generar X~U(a,b)\n",
        "  res=4*((b-a)/N)*np.sum(G(xi))                      #Calcular el resultado\n",
        "  res_porcentual = np.abs(np.pi - res) * 100\n",
        "  resultados.append(res_porcentual)"
      ],
      "execution_count": null,
      "outputs": []
    },
    {
      "cell_type": "code",
      "metadata": {
        "colab": {
          "base_uri": "https://localhost:8080/"
        },
        "id": "-fjkE39HSTKm",
        "outputId": "ac7cc999-1d18-40a3-8802-54b30dcc72de"
      },
      "source": [
        "print(resultados)"
      ],
      "execution_count": null,
      "outputs": [
        {
          "output_type": "stream",
          "name": "stdout",
          "text": [
            "[1.2466737640011605, 0.41200897290400995, 0.27573625630701315, 0.17961793603462617, 0.05188423063291481, 0.002821882427683775]\n"
          ]
        }
      ]
    },
    {
      "cell_type": "markdown",
      "metadata": {
        "id": "FOvuusjMRa2O"
      },
      "source": [
        "Se crea la gráfica"
      ]
    },
    {
      "cell_type": "code",
      "metadata": {
        "colab": {
          "base_uri": "https://localhost:8080/",
          "height": 295
        },
        "id": "Nd0Gi5P3LacB",
        "outputId": "4a7822c5-6405-4efd-f91c-5c5a4de77134"
      },
      "source": [
        "plt.bar(x = list(range(len(resultados))), height = resultados, width = 1, tick_label=n_pruebas, label=\"Error %\")\n",
        "\n",
        "plt.grid()\n",
        "plt.xlabel('Número de pruebas')\n",
        "plt.ylabel('Error porcentual')\n",
        "\n",
        "plt.tick_params(labelsize=8)\n",
        "plt.title (\"Error porcentual del estimado de π vs el número de pruebas\")\n",
        "plt.legend(loc='best')\n",
        "plt.show()"
      ],
      "execution_count": null,
      "outputs": [
        {
          "output_type": "display_data",
          "data": {
            "image/png": "[encoded data removed]",
            "text/plain": [
              "<Figure size 432x288 with 1 Axes>"
            ]
          },
          "metadata": {
            "needs_background": "light"
          }
        }
      ]
    },
    {
      "cell_type": "code",
      "metadata": {
        "id": "vCTb9TN8Wl-b"
      },
      "source": [
        ""
      ],
      "execution_count": null,
      "outputs": []
    }
  ]
}